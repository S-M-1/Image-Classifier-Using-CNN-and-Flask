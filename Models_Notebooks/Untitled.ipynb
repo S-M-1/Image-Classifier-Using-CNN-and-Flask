{
 "cells": [
  {
   "cell_type": "code",
   "execution_count": 3,
   "metadata": {},
   "outputs": [],
   "source": [
    "import numpy as np\n",
    "from tensorflow import keras\n",
    "from tensorflow.keras import backend as K\n",
    "from tensorflow.keras.models import Model, Sequential\n",
    "from tensorflow.keras.layers import Dense, Dropout, Flatten, Conv2D, MaxPool2D, Input\n",
    "from tensorflow.keras.datasets import fashion_mnist"
   ]
  },
  {
   "cell_type": "code",
   "execution_count": 4,
   "metadata": {},
   "outputs": [
    {
     "data": {
      "text/plain": [
       "((60000, 28, 28), (10000, 28, 28), (60000,), (10000,))"
      ]
     },
     "execution_count": 4,
     "metadata": {},
     "output_type": "execute_result"
    }
   ],
   "source": [
    "(x_train, y_train), (x_test, y_test) = fashion_mnist.load_data()\n",
    "x_train = x_train.astype('float32') / 255.0\n",
    "x_test = x_test.astype('float32') / 255.0\n",
    "\n",
    "x_train.shape, x_test.shape, y_train.shape, y_test.shape"
   ]
  },
  {
   "cell_type": "code",
   "execution_count": 5,
   "metadata": {},
   "outputs": [],
   "source": [
    "input_shape = (x_train.shape[1:] + (1,)) # (28, 28, 1)\n",
    "num_classes = len(np.unique(y_train)) "
   ]
  },
  {
   "cell_type": "code",
   "execution_count": 6,
   "metadata": {},
   "outputs": [],
   "source": [
    "y_train = keras.utils.to_categorical(y_train, num_classes)\n",
    "y_test = keras.utils.to_categorical(y_test, num_classes)"
   ]
  },
  {
   "cell_type": "code",
   "execution_count": 7,
   "metadata": {},
   "outputs": [
    {
     "name": "stdout",
     "output_type": "stream",
     "text": [
      "Model: \"functional_1\"\n",
      "_________________________________________________________________\n",
      "Layer (type)                 Output Shape              Param #   \n",
      "=================================================================\n",
      "input_1 (InputLayer)         [(None, 28, 28, 1)]       0         \n",
      "_________________________________________________________________\n",
      "conv2d (Conv2D)              (None, 26, 26, 32)        320       \n",
      "_________________________________________________________________\n",
      "conv2d_1 (Conv2D)            (None, 24, 24, 64)        18496     \n",
      "_________________________________________________________________\n",
      "max_pooling2d (MaxPooling2D) (None, 12, 12, 64)        0         \n",
      "_________________________________________________________________\n",
      "dropout (Dropout)            (None, 12, 12, 64)        0         \n",
      "_________________________________________________________________\n",
      "flatten (Flatten)            (None, 9216)              0         \n",
      "_________________________________________________________________\n",
      "dense (Dense)                (None, 128)               1179776   \n",
      "_________________________________________________________________\n",
      "dropout_1 (Dropout)          (None, 128)               0         \n",
      "_________________________________________________________________\n",
      "dense_1 (Dense)              (None, 10)                1290      \n",
      "=================================================================\n",
      "Total params: 1,199,882\n",
      "Trainable params: 1,199,882\n",
      "Non-trainable params: 0\n",
      "_________________________________________________________________\n"
     ]
    }
   ],
   "source": [
    "inp = Input(shape=input_shape)\n",
    "_ = Conv2D(filters=32, kernel_size=(3, 3), activation='relu')(inp)\n",
    "_ = Conv2D(filters=64, kernel_size=(3, 3), activation='relu')(_)\n",
    "_ = MaxPool2D(pool_size=(2, 2))(_)\n",
    "_ = Dropout(0.25)(_)\n",
    "_ = Flatten()(_)\n",
    "_ = Dense(units=128, activation='relu')(_)\n",
    "_ = Dropout(0.2)(_)\n",
    "_ = Dense(units=num_classes, activation='softmax')(_)\n",
    "model = Model(inputs=inp, outputs=_)\n",
    "model.summary()"
   ]
  },
  {
   "cell_type": "code",
   "execution_count": 8,
   "metadata": {},
   "outputs": [
    {
     "name": "stdout",
     "output_type": "stream",
     "text": [
      "Epoch 1/12\n",
      "329/329 [==============================] - 111s 337ms/step - loss: 0.5077 - accuracy: 0.8191 - val_loss: 0.3400 - val_accuracy: 0.8777\n",
      "Epoch 2/12\n",
      "329/329 [==============================] - 107s 325ms/step - loss: 0.3179 - accuracy: 0.8857 - val_loss: 0.2839 - val_accuracy: 0.8969\n",
      "Epoch 3/12\n",
      "329/329 [==============================] - 107s 325ms/step - loss: 0.2665 - accuracy: 0.9017 - val_loss: 0.2613 - val_accuracy: 0.9052\n",
      "Epoch 4/12\n",
      "329/329 [==============================] - 107s 325ms/step - loss: 0.2342 - accuracy: 0.9147 - val_loss: 0.2587 - val_accuracy: 0.9073\n",
      "Epoch 5/12\n",
      "329/329 [==============================] - 106s 324ms/step - loss: 0.2079 - accuracy: 0.9243 - val_loss: 0.2423 - val_accuracy: 0.9111\n",
      "Epoch 6/12\n",
      "329/329 [==============================] - 106s 323ms/step - loss: 0.1837 - accuracy: 0.9317 - val_loss: 0.2250 - val_accuracy: 0.9222\n",
      "Epoch 7/12\n",
      "329/329 [==============================] - 106s 324ms/step - loss: 0.1637 - accuracy: 0.9381 - val_loss: 0.2252 - val_accuracy: 0.9229\n",
      "Epoch 8/12\n",
      "329/329 [==============================] - 107s 325ms/step - loss: 0.1451 - accuracy: 0.9449 - val_loss: 0.2346 - val_accuracy: 0.9167\n",
      "Epoch 9/12\n",
      "329/329 [==============================] - 106s 323ms/step - loss: 0.1295 - accuracy: 0.9504 - val_loss: 0.2232 - val_accuracy: 0.9275\n",
      "Epoch 10/12\n",
      "329/329 [==============================] - 107s 324ms/step - loss: 0.1152 - accuracy: 0.9579 - val_loss: 0.2369 - val_accuracy: 0.9236\n",
      "Epoch 11/12\n",
      "329/329 [==============================] - 107s 324ms/step - loss: 0.1032 - accuracy: 0.9623 - val_loss: 0.2371 - val_accuracy: 0.9234\n",
      "Epoch 12/12\n",
      "329/329 [==============================] - 107s 324ms/step - loss: 0.0907 - accuracy: 0.9663 - val_loss: 0.2534 - val_accuracy: 0.9268\n"
     ]
    }
   ],
   "source": [
    "model.compile(loss=keras.losses.categorical_crossentropy,\n",
    "              optimizer=keras.optimizers.Adam(), metrics=['accuracy'])\n",
    "history = model.fit(np.expand_dims(x_train, -1), y_train, batch_size=128, epochs=12, validation_split=0.3)"
   ]
  },
  {
   "cell_type": "code",
   "execution_count": 11,
   "metadata": {},
   "outputs": [
    {
     "name": "stdout",
     "output_type": "stream",
     "text": [
      "0.2737727165222168 0.9200000166893005\n"
     ]
    }
   ],
   "source": [
    "loss, accuracy = model.evaluate(np.expand_dims(x_test, -1), y_test, verbose=0)\n",
    "print(loss, accuracy)"
   ]
  },
  {
   "cell_type": "code",
   "execution_count": 10,
   "metadata": {},
   "outputs": [
    {
     "data": {
      "text/plain": [
       "<matplotlib.legend.Legend at 0x176c57df730>"
      ]
     },
     "execution_count": 10,
     "metadata": {},
     "output_type": "execute_result"
    },
    {
     "data": {
      "image/png": "[encoded data removed]",
      "text/plain": [
       "<Figure size 1008x360 with 2 Axes>"
      ]
     },
     "metadata": {
      "needs_background": "light"
     },
     "output_type": "display_data"
    }
   ],
   "source": [
    "import matplotlib.pyplot as plt\n",
    "%matplotlib inline\n",
    "\n",
    "fig, (ax1, ax2) = plt.subplots(nrows=1, ncols=2, figsize=(14, 5))\n",
    "ax1.plot(history.history['loss'], label='Train Loss')\n",
    "ax1.plot(history.history['val_loss'], label='Val Loss')\n",
    "ax1.legend()\n",
    "ax2.plot(history.history['accuracy'], label='Train Accuracy')\n",
    "ax2.plot(history.history['val_accuracy'], label='Val Accuracy')\n",
    "ax2.legend()"
   ]
  }
 ],
 "metadata": {
  "kernelspec": {
   "display_name": "Python 3",
   "language": "python",
   "name": "python3"
  },
  "language_info": {
   "codemirror_mode": {
    "name": "ipython",
    "version": 3
   },
   "file_extension": ".py",
   "mimetype": "text/x-python",
   "name": "python",
   "nbconvert_exporter": "python",
   "pygments_lexer": "ipython3",
   "version": "3.8.5"
  }
 },
 "nbformat": 4,
 "nbformat_minor": 4
}
